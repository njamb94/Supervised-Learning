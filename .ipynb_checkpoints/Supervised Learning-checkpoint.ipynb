{
 "cells": [
  {
   "cell_type": "code",
   "execution_count": 1,
   "id": "bec03e04",
   "metadata": {},
   "outputs": [
    {
     "name": "stdout",
     "output_type": "stream",
     "text": [
      "Dataset attributes: ['device', 'humidity', 'temperature', 'experiment', 'time']\n",
      "Total number of samples: 1672\n",
      "VALID: 1649\n",
      "INVALID: 23\n",
      "1649\n"
     ]
    }
   ],
   "source": [
    "import constants\n",
    "from DatasetManager import DatasetManager\n",
    "\n",
    "shouldSkipDatasetPrint = True\n",
    "\n",
    "x = DatasetManager(constants.DATASET_PATH, constants.DATASET_INVALID)\n",
    "x.setup(shouldSkipDatasetPrint)\n",
    "val = x.getDatasetObjects()\n",
    "print(val.__len__())"
   ]
  },
  {
   "cell_type": "code",
   "execution_count": null,
   "id": "56428ec1",
   "metadata": {},
   "outputs": [],
   "source": []
  }
 ],
 "metadata": {
  "kernelspec": {
   "display_name": "Python 3 (ipykernel)",
   "language": "python",
   "name": "python3"
  },
  "language_info": {
   "codemirror_mode": {
    "name": "ipython",
    "version": 3
   },
   "file_extension": ".py",
   "mimetype": "text/x-python",
   "name": "python",
   "nbconvert_exporter": "python",
   "pygments_lexer": "ipython3",
   "version": "3.8.10"
  }
 },
 "nbformat": 4,
 "nbformat_minor": 5
}
